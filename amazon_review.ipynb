import pandas as pd
data=pd.read_csv('amazon_reviews.csv')
data
data.info()

df=pd.DataFrame(data)
cols=[0,2,3,4]
df=df[df.columns[cols]]
print(df.info(),end='\n\n\n')
df=df.head(1000)
df.shape

import string,nltk
import re
#  to remove the punctuation
df['reviewText'] = df['reviewText'].str.replace(r'[^\w\s]+', '')
#datac=data.copy()
df.isnull().sum()
#df['reviewText']=df['reviewText'].fillna('missing value')
df=df.dropna()
print(df.head(),end='\n\n')
print(df.isnull().sum(),end='\n\n')
df['overall'].value_counts()

#visualization
from matplotlib import pyplot as plt
df['overall'].value_counts().plot(kind='bar',title='count of stars')
plt.xlabel('review stars')
plt.show() 

#function for classifying text as positive ,negative,neutral
def fun(row):
    if row['overall'] == 3.0:
        val = 'Neutral'
    elif row['overall'] == 1.0 or row['overall'] == 2.0:
        val = 'Negative'
    elif row['overall'] == 4.0 or row['overall'] == 5.0:
        val = 'Positive'
    else:
        val = -1
    return val

df['sentiment']=df.apply(fun,axis=1)
df.head()
df['sentiment'].value_counts()

#download and import nltk library
from nltk.sentiment import SentimentIntensityAnalyzer
s=SentimentIntensityAnalyzer()
#s.polarity_scores(df['reviewText'].values[59])
df['compound']=df['reviewText'].astype(str).map(lambda text:s.polarity_scores(text)['compound'])
df['positive']=df['reviewText'].astype(str).map(lambda text:s.polarity_scores(text)['pos'])
df['neutral']=df['reviewText'].astype(str).map(lambda text:s.polarity_scores(text)['neu'])
df['negative']=df['reviewText'].astype(str).map(lambda text:s.polarity_scores(text)['neg'])

df.head()

#new attribute visualization
import seaborn as sns
sns.barplot(data=df,x='overall',y='positive')
sns.barplot(data=df,x='overall',y='negative')
sns.barplot(data=df,x='overall',y='neutral')
